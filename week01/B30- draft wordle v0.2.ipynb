{
 "cells": [
  {
   "cell_type": "code",
   "execution_count": 22,
   "id": "9439538e",
   "metadata": {},
   "outputs": [
    {
     "name": "stderr",
     "output_type": "stream",
     "text": [
      "[nltk_data] Downloading package words to /Users/pawel/nltk_data...\n",
      "[nltk_data]   Package words is already up-to-date!\n"
     ]
    }
   ],
   "source": [
    "import nltk\n",
    "nltk.download('words')\n",
    "from nltk.corpus import words\n",
    "\n",
    "import json\n",
    "import urllib.request"
   ]
  },
  {
   "cell_type": "code",
   "execution_count": 53,
   "id": "f45aa432",
   "metadata": {},
   "outputs": [],
   "source": [
    "def get_text_from_url(url):\n",
    "    with urllib.request.urlopen(url) as file_object:\n",
    "        data_string = file_object.read().decode('utf-8')\n",
    "    return data_string\n",
    "\n",
    "# import xkcd word list (it is in a weird format, have a look at https://xkcd.com/simplewriter/words.js )\n",
    "def get_simple_words():\n",
    "    xkcd_simple_words = get_text_from_url(\"https://xkcd.com/simplewriter/words.js\")\n",
    "    # so we strip the weird beginning:\n",
    "    simple_words_separated = xkcd_simple_words.split('window.__WORDS = \"')[1].rstrip('\";')\n",
    "    # and then we split string into individual words:\n",
    "    simple_words = simple_words_separated.split('|')\n",
    "    simple_words.sort()\n",
    "    return simple_words"
   ]
  },
  {
   "cell_type": "code",
   "execution_count": 52,
   "id": "eb457683",
   "metadata": {},
   "outputs": [
    {
     "name": "stdout",
     "output_type": "stream",
     "text": [
      "['kiwi', 'plum']\n",
      "['apple']\n",
      "[]\n"
     ]
    }
   ],
   "source": [
    "def just_words_of_one_length(all_words, length):\n",
    "    words_with_x_letters = [word.lower() \n",
    "                            for word in all_words\n",
    "                           if len(word)==length]\n",
    "    return words_with_x_letters\n",
    "\n",
    "print(just_words_of_one_length([\"banana\",\"apple\", \"kiwi\", \"plum\"], 4))\n",
    "print(just_words_of_one_length([\"banana\",\"apple\", \"kiwi\", \"plum\"], 5))\n",
    "print(just_words_of_one_length([\"banana\",\"apple\", \"kiwi\", \"plum\"], 3))"
   ]
  },
  {
   "cell_type": "code",
   "execution_count": 27,
   "id": "688374a5",
   "metadata": {},
   "outputs": [
    {
     "name": "stdout",
     "output_type": "stream",
     "text": [
      "662\n",
      "['about', 'above', 'acted', 'added', 'admit', 'after', 'again', 'aging', 'agree', 'ahead']\n"
     ]
    }
   ],
   "source": [
    "def all_wordle_words():\n",
    "    return just_words_of_one_length(get_simple_words(), 5)\n",
    "\n",
    "wordle_list = all_wordle_words()\n",
    "\n",
    "print(len(wordle_list))\n",
    "print(wordle_list[0:10])"
   ]
  },
  {
   "cell_type": "code",
   "execution_count": 36,
   "id": "47c0652a",
   "metadata": {},
   "outputs": [
    {
     "name": "stdout",
     "output_type": "stream",
     "text": [
      "words with letter z 4\n",
      "['crazy', 'dozen', 'sized', 'sizes']\n",
      "words with letter e 377\n",
      "['above', 'acted', 'added', 'after', 'agree', 'ahead', 'aired', 'alive', 'alone', 'areas', 'armed', 'asked', 'beach', 'bears', 'beats', 'beers', 'began', 'begin', 'begun', 'being', 'below', 'bends', 'bents', 'bests', 'biter', 'bites', 'bitey', 'blued', 'bluer', 'blues', 'boned', 'bones', 'bored', 'boxed', 'boxes', 'break', 'broke', 'bused', 'buses', 'buyer', 'cared', 'cares', 'cased', 'cases', 'cause', 'check', 'cheek', 'chest', 'chose', 'clean', 'clear', 'close', 'comes', 'cover', 'cried', 'cries', 'dance', 'death', 'deeps', 'desks', 'doers', 'dozen', 'dream', 'dress', 'dried', 'drier', 'dries', 'drive', 'drove', 'dryer', 'early', 'earth', 'easts', 'eaten', 'eater', 'edged', 'edges', 'egged', 'eight', 'empty', 'ended', 'ender', 'enjoy', 'enter', 'evens', 'event', 'every', 'extra', 'eying', 'faced', 'faces', 'faded', 'fades', 'fears', 'feeds', 'feels', 'fewer', 'field', 'fined', 'finer', 'fines', 'fired', 'fires', 'fiver', 'fives', 'fixed', 'fixer', 'fixes', 'flier', 'flies', 'flyer', 'force', 'freed', 'freer', 'frees', 'fresh', 'gamed', 'gamer', 'games', 'gated', 'gates', 'given', 'gives', 'goers', 'great', 'green', 'greys', 'guess', 'guyed', 'halve', 'hated', 'hates', 'haves', 'heads', 'heard', 'hears', 'heart', 'heats', 'heavy', 'hello', 'hells', 'helps', 'heres', 'hides', 'holed', 'holes', 'homed', 'homes', 'hoped', 'hopes', 'horse', 'hotel', 'house', 'huger', 'ideas', 'image', 'joked', 'jokes', 'keeps', 'keyed', 'knees', 'knife', 'large', 'later', 'layer', 'leads', 'leafs', 'learn', 'least', 'leave', 'liked', 'liker', 'likes', 'lined', 'lines', 'lived', 'lives', 'loses', 'loved', 'lover', 'loves', 'lower', 'maker', 'makes', 'maybe', 'means', 'meant', 'meets', 'metal', 'mined', 'money', 'mores', 'moved', 'mover', 'moves', 'movie', 'named', 'namer', 'names', 'nears', 'necks', 'needs', 'never', 'newer', 'nicer', 'noise', 'nones', 'nosed', 'noses', 'noted', 'notes', 'nurse', 'offed', 'offer', 'often', 'older', 'opens', 'order', 'other', 'outed', 'outer', 'overs', 'owned', 'owner', 'paged', 'pages', 'paled', 'paler', 'pales', 'paper', 'pause', 'payed', 'phone', 'piece', 'piled', 'piles', 'place', 'plate', 'pleas', 'power', 'press', 'prove', 'quiet', 'quite', 'raise', 'reach', 'reads', 'ready', 'reply', 'rests', 'rider', 'rides', 'risen', 'rises', 'river', 'roses', 'rowed', 'safer', 'safes', 'sames', 'saved', 'saver', 'saves', 'scare', 'scene', 'seats', 'seems', 'sells', 'sends', 'sense', 'serve', 'seven', 'sexed', 'sexes', 'shake', 'shape', 'share', 'sheet', 'shoes', 'shove', 'sided', 'sides', 'since', 'singe', 'sixes', 'sized', 'sizes', 'skies', 'sleep', 'slept', 'slide', 'smell', 'smile', 'smoke', 'space', 'speak', 'spend', 'spent', 'spoke', 'stage', 'stare', 'state', 'steal', 'steps', 'stole', 'stone', 'store', 'suite', 'surer', 'sweet', 'table', 'taken', 'taker', 'takes', 'teach', 'teams', 'tears', 'teeth', 'tells', 'their', 'thens', 'there', 'these', 'those', 'three', 'threw', 'timed', 'timer', 'times', 'tired', 'tires', 'toned', 'tones', 'treed', 'trees', 'tried', 'tries', 'tripe', 'trued', 'truer', 'trues', 'twice', 'uncle', 'under', 'upped', 'views', 'voice', 'waked', 'wakes', 'water', 'waved', 'waver', 'waves', 'wears', 'weeks', 'wells', 'wests', 'wheel', 'where', 'while', 'white', 'whole', 'whose', 'wider', 'wines', 'wiped', 'wiper', 'wipes', 'wives', 'woken', 'women', 'worse', 'write', 'wrote', 'years', 'yells', 'yeses']\n"
     ]
    }
   ],
   "source": [
    "def words_with_letter_(all_words, letter):\n",
    "    keep_these = [word \n",
    "                    for word in all_words\n",
    "                   if word.count(letter) > 0]\n",
    "    return keep_these\n",
    "\n",
    "word_list = words_with_letter_(wordle_list, \"z\")\n",
    "print(\"words with letter z\",len(word_list))\n",
    "print(word_list)\n",
    "\n",
    "word_list = words_with_letter_(wordle_list, \"e\")\n",
    "print(\"words with letter e\",len(word_list))\n",
    "print(word_list)\n"
   ]
  },
  {
   "cell_type": "code",
   "execution_count": null,
   "id": "8088061e",
   "metadata": {},
   "outputs": [],
   "source": [
    "def words_with_letter_at_index(all_words, letter, index):\n",
    "    keep_these = [word \n",
    "                   for word in all_words\n",
    "                   if word[index] == letter]\n",
    "    return keep_these"
   ]
  },
  {
   "cell_type": "code",
   "execution_count": 37,
   "id": "7ef47923",
   "metadata": {},
   "outputs": [
    {
     "name": "stdout",
     "output_type": "stream",
     "text": [
      "words starting with letter q 3\n",
      "['quick', 'quiet', 'quite']\n"
     ]
    }
   ],
   "source": [
    "word_list = words_with_letter_at_index(wordle_list, \"q\", 0)\n",
    "print(\"words starting with letter q\",len(word_list))\n",
    "print(word_list)"
   ]
  },
  {
   "cell_type": "code",
   "execution_count": 38,
   "id": "d075dc3b",
   "metadata": {},
   "outputs": [
    {
     "name": "stdout",
     "output_type": "stream",
     "text": [
      "words with second letter being q 0\n",
      "[]\n"
     ]
    }
   ],
   "source": [
    "word_list = words_with_letter_at_index(wordle_list, \"q\", 1)\n",
    "print(\"words with second letter being q\",len(word_list))\n",
    "print(word_list)"
   ]
  },
  {
   "cell_type": "code",
   "execution_count": 41,
   "id": "60f61892",
   "metadata": {},
   "outputs": [
    {
     "name": "stdout",
     "output_type": "stream",
     "text": [
      "words starting with letter u 6\n",
      "['uncle', 'under', 'until', 'upped', 'using', 'usual']\n"
     ]
    }
   ],
   "source": [
    "word_list = words_with_letter_at_index(wordle_list, \"u\", 0)\n",
    "print(\"words starting with letter u\",len(word_list))\n",
    "print(word_list)"
   ]
  },
  {
   "cell_type": "code",
   "execution_count": 42,
   "id": "f5829f6b",
   "metadata": {},
   "outputs": [
    {
     "name": "stdout",
     "output_type": "stream",
     "text": [
      "words ending with letter e 70\n",
      "['above', 'agree', 'alive', 'alone', 'broke', 'cause', 'chose', 'close', 'dance', 'drive', 'drove', 'force', 'halve', 'horse', 'house', 'image', 'knife', 'large', 'leave', 'maybe', 'movie', 'noise', 'nurse', 'pause', 'phone', 'piece', 'place', 'plate', 'prove', 'quite', 'raise', 'scare', 'scene', 'sense', 'serve', 'shake', 'shape', 'share', 'shove', 'since', 'singe', 'slide', 'smile', 'smoke', 'space', 'spoke', 'stage', 'stare', 'state', 'stole', 'stone', 'store', 'suite', 'table', 'there', 'these', 'those', 'three', 'tripe', 'twice', 'uncle', 'voice', 'where', 'while', 'white', 'whole', 'whose', 'worse', 'write', 'wrote']\n"
     ]
    }
   ],
   "source": [
    "word_list = words_with_letter_at_index(wordle_list, \"e\", -1)\n",
    "print(\"words ending with letter e\",len(word_list))\n",
    "print(word_list)"
   ]
  },
  {
   "cell_type": "code",
   "execution_count": null,
   "id": "faf7d6cd",
   "metadata": {},
   "outputs": [],
   "source": [
    "# this will be useful for the 'grey ticks' \n",
    "# when letter is in the word, but at a different position\n",
    "\n",
    "def words_with_letter_but_not_index(all_words, letter, index):\n",
    "    keep_these = [word \n",
    "                    for word in all_words\n",
    "                   if word.count(letter) > 0 and word[index] != letter]\n",
    "    return keep_these\n",
    "\n",
    "word_list = words_with_letter_but_not_index(wordle_list, \"u\", 0)\n",
    "print(\"containing e, but not starting with it\",len(word_list))\n",
    "print(word_list)"
   ]
  },
  {
   "cell_type": "code",
   "execution_count": 47,
   "id": "5ccbd03f",
   "metadata": {},
   "outputs": [
    {
     "name": "stdout",
     "output_type": "stream",
     "text": [
      "containing f, but not starting with it 12\n",
      "['after', 'gifts', 'knife', 'leafs', 'lifts', 'offed', 'offer', 'often', 'roofs', 'safer', 'safes', 'stuff']\n"
     ]
    }
   ],
   "source": [
    "word_list = words_with_letter_but_not_index(wordle_list, \"f\", 0)\n",
    "print(\"containing f, but not starting with it\",len(word_list))\n",
    "print(word_list)"
   ]
  },
  {
   "cell_type": "code",
   "execution_count": null,
   "id": "1bcdd5bd",
   "metadata": {},
   "outputs": [],
   "source": []
  },
  {
   "cell_type": "code",
   "execution_count": null,
   "id": "5679f374",
   "metadata": {},
   "outputs": [],
   "source": []
  },
  {
   "cell_type": "code",
   "execution_count": 54,
   "id": "70b538e1",
   "metadata": {},
   "outputs": [
    {
     "name": "stdout",
     "output_type": "stream",
     "text": [
      "12\n"
     ]
    }
   ],
   "source": [
    "wordle_list = just_words_of_one_length(word_list, 5)\n",
    "\n",
    "print(len(wordle_list))"
   ]
  },
  {
   "cell_type": "code",
   "execution_count": 4,
   "id": "09ddb890",
   "metadata": {},
   "outputs": [
    {
     "name": "stdout",
     "output_type": "stream",
     "text": [
      "217\n",
      "['balza']\n",
      "set()\n"
     ]
    }
   ],
   "source": [
    "# print(word_list)\n",
    "\n",
    "# (spoiler, answer is: BASIL)\n",
    "\n",
    "# BEANS\n",
    "# *_.__\n",
    "\n",
    "\n",
    "\n",
    "b_at_0_words = words_with_letter_at_index(wordle_list, \"b\", 0)\n",
    "a_somewhere_but_not_at_2_words = words_with_letter_but_not_index(wordle_list, \"a\", 2)\n",
    "\n",
    "leftover_words = [word\n",
    "           for word in b_at_0_words\n",
    "           if a_somewhere_but_not_at_2_words.count(word) > 0]\n",
    "# print(b_words)\n",
    "# print(leftover_words)\n",
    "\n",
    "# BAKER\n",
    "# **___\n",
    "\n",
    "b_at_0_words = words_with_letter_at_index(wordle_list, \"b\", 0)\n",
    "a_at_1_words = words_with_letter_at_index(wordle_list, \"a\", 1)\n",
    "\n",
    "leftover_words = [word\n",
    "           for word in b_at_0_words\n",
    "           if a_at_1_words.count(word) > 0]\n",
    "# print(b_words)\n",
    "# print(leftover_words)\n",
    "\n",
    "# BADLY\n",
    "# **_._\n",
    "\n",
    "b_at_0_words = words_with_letter_at_index(wordle_list, \"b\", 0)\n",
    "a_at_1_words = words_with_letter_at_index(wordle_list, \"a\", 1)\n",
    "l_not_at_3_words = words_with_letter_but_not_index(wordle_list, \"l\", 3)\n",
    "\n",
    "leftover_words = [word\n",
    "           for word in b_at_0_words\n",
    "           if a_at_1_words.count(word) > 0 and l_not_at_3_words.count(word) > 0]\n",
    "# print(b_words)\n",
    "print(leftover_words)\n",
    "\n",
    "# BANAL\n",
    "# **__*\n",
    "\n",
    "b_at_0_words = words_with_letter_at_index(wordle_list, \"b\", 0)\n",
    "a_at_1_words = words_with_letter_at_index(wordle_list, \"a\", 1)\n",
    "l_at_4_words = words_with_letter_at_index(wordle_list, \"l\", 4)\n",
    "\n",
    "leftover_words = set(b_at_0_words) & set(a_at_1_words) & set(l_at_4_words)\n",
    "# print(b_words)\n",
    "print(leftover_words)"
   ]
  },
  {
   "cell_type": "code",
   "execution_count": 5,
   "id": "14b36abc",
   "metadata": {},
   "outputs": [
    {
     "name": "stdout",
     "output_type": "stream",
     "text": [
      "{'meh', 'yay'}\n",
      "{'meh', 'yay', 'cat'}\n",
      "{'meh', 'yay'}\n",
      "{'meh', 'oops', 'yay'}\n"
     ]
    }
   ],
   "source": [
    "def overlap_word_lists(lists_with_words):\n",
    "    result = set(lists_with_words[0])\n",
    "    for one_list in lists_with_words[1:]:\n",
    "        result.intersection_update(one_list)\n",
    "    return set(result)\n",
    "\n",
    "    \n",
    "list1 = [\"cat\", \"bat\", \"meh\",\"yay\"]\n",
    "list2 = [\"cat\", \"meh\",\"yay\",\"oops\"]\n",
    "list3 = [ \"meh\", \"yay\", \"oops\"]\n",
    "\n",
    "print(overlap_word_lists([list1, list2, list3]))\n",
    "assert overlap_word_lists([list1, list2, list3]) == set([\"meh\",\"yay\"])\n",
    "\n",
    "print(overlap_word_lists([list1, list2]))\n",
    "assert overlap_word_lists([list1, list2]) == set([\"cat\",\"meh\",\"yay\"])\n",
    "\n",
    "print(overlap_word_lists([list1, list3]))\n",
    "assert overlap_word_lists([list1, list3]) == set([\"meh\",\"yay\"])\n",
    "\n",
    "print(overlap_word_lists([list2, list3]))\n",
    "assert overlap_word_lists([list2, list3]) == set([\"meh\",\"yay\",\"oops\"])"
   ]
  },
  {
   "cell_type": "code",
   "execution_count": 6,
   "id": "81952168",
   "metadata": {},
   "outputs": [
    {
     "name": "stdout",
     "output_type": "stream",
     "text": [
      "tests passed!\n"
     ]
    }
   ],
   "source": [
    "def get_letter_feedback(letter, index, answer):\n",
    "    if (answer[index] == letter):\n",
    "        return \"*\"\n",
    "    elif (answer.count(letter) > 0):\n",
    "        return \".\"\n",
    "    else:\n",
    "        return \"_\"\n",
    "\n",
    "assert get_letter_feedback(\"a\", 0, \"basil\") == \".\"\n",
    "assert get_letter_feedback(\"a\", 1, \"basil\") == \"*\"\n",
    "assert get_letter_feedback(\"a\", 4, \"basil\") == \".\"\n",
    "\n",
    "assert get_letter_feedback(\"z\", 0, \"basil\") == \"_\"\n",
    "assert get_letter_feedback(\"z\", 1, \"basil\") == \"_\"\n",
    "assert get_letter_feedback(\"z\", 4, \"basil\") == \"_\"\n",
    "print(\"tests passed!\")"
   ]
  },
  {
   "cell_type": "code",
   "execution_count": 7,
   "id": "e316b48b",
   "metadata": {},
   "outputs": [
    {
     "name": "stdout",
     "output_type": "stream",
     "text": [
      "**___\n",
      "tests passed!\n"
     ]
    }
   ],
   "source": [
    "def get_word_feedback(word, answer):\n",
    "    feedback = [get_letter_feedback(letter, index, answer) \n",
    "                for index,letter in enumerate(word)]\n",
    "    return \"\".join(feedback)\n",
    "\n",
    "print(get_word_feedback(\"baker\",\"basil\"))\n",
    "assert get_word_feedback(\"baker\",\"basil\") == \"**___\"\n",
    "print(\"tests passed!\")"
   ]
  },
  {
   "cell_type": "code",
   "execution_count": 8,
   "id": "fcc4a83c",
   "metadata": {},
   "outputs": [
    {
     "name": "stdout",
     "output_type": "stream",
     "text": [
      "merit\n",
      "gardy\n",
      "__*__\n"
     ]
    }
   ],
   "source": [
    "import random\n",
    "\n",
    "def get_random_word():\n",
    "    return random.choice(all_wordle_words())\n",
    "\n",
    "\n",
    "answer = get_random_word()\n",
    "print(answer)\n",
    "\n",
    "guess1 = get_random_word()\n",
    "print(guess1)\n",
    "\n",
    "print(get_word_feedback(guess1, answer))"
   ]
  },
  {
   "cell_type": "code",
   "execution_count": 9,
   "id": "e1913c05",
   "metadata": {},
   "outputs": [
    {
     "name": "stdout",
     "output_type": "stream",
     "text": [
      "tests passed!\n"
     ]
    }
   ],
   "source": [
    "def get_letter_feedback_numeric(letter, index, answer):\n",
    "    return {\"letter\":letter, \"index\":index, \"is_there\":get_letter_feedback(letter, index, answer)}\n",
    "\n",
    "assert get_letter_feedback_numeric(\"a\", 0, \"basil\") == {\"letter\":\"a\", \"index\":0, \"is_there\":\".\"}\n",
    "assert get_letter_feedback_numeric(\"a\", 1, \"basil\") == {\"letter\":\"a\", \"index\":1, \"is_there\":\"*\"}\n",
    "assert get_letter_feedback_numeric(\"z\", 1, \"basil\") == {\"letter\":\"z\", \"index\":1, \"is_there\":\"_\"}\n",
    "# assert get_letter_feedback(\"a\", 4, \"basil\") == \".\"\n",
    "\n",
    "# assert get_letter_feedback(\"z\", 0, \"basil\") == \"_\"\n",
    "# assert get_letter_feedback(\"z\", 1, \"basil\") == \"_\"\n",
    "# assert get_letter_feedback(\"z\", 4, \"basil\") == \"_\"\n",
    "print(\"tests passed!\")"
   ]
  },
  {
   "cell_type": "code",
   "execution_count": 10,
   "id": "ec187dc2",
   "metadata": {},
   "outputs": [
    {
     "name": "stdout",
     "output_type": "stream",
     "text": [
      "[{'letter': 'b', 'index': 0, 'is_there': '*'}, {'letter': 'a', 'index': 1, 'is_there': '*'}, {'letter': 'k', 'index': 2, 'is_there': '_'}, {'letter': 'e', 'index': 3, 'is_there': '_'}, {'letter': 'r', 'index': 4, 'is_there': '_'}]\n",
      "tests passed!\n"
     ]
    }
   ],
   "source": [
    "def get_word_feedback_numeric(word, answer):\n",
    "    feedback = [get_letter_feedback_numeric(letter, index, answer) \n",
    "                for index,letter in enumerate(word)]\n",
    "    return feedback\n",
    "    \n",
    "\n",
    "print(get_word_feedback_numeric(\"baker\",\"basil\"))\n",
    "assert get_word_feedback_numeric(\"baker\",\"basil\") == [{\"letter\":\"b\", \"index\":0, \"is_there\":\"*\"},\n",
    "                                             {\"letter\":\"a\", \"index\":1, \"is_there\":\"*\"},\n",
    "                                             {\"letter\":\"k\", \"index\":2, \"is_there\":\"_\"},\n",
    "                                             {\"letter\":\"e\", \"index\":3, \"is_there\":\"_\"},\n",
    "                                             {\"letter\":\"r\", \"index\":4, \"is_there\":\"_\"}]\n",
    "print(\"tests passed!\")"
   ]
  },
  {
   "cell_type": "code",
   "execution_count": 11,
   "id": "56e4fc33",
   "metadata": {},
   "outputs": [
    {
     "name": "stdout",
     "output_type": "stream",
     "text": [
      "['baker']\n",
      "tests passed!\n"
     ]
    }
   ],
   "source": [
    "# b_at_0_words = words_with_letter_at_index(wordle_list, \"b\", 0)\n",
    "# a_at_1_words = words_with_letter_at_index(wordle_list, \"a\", 1)\n",
    "# l_not_at_3_words = words_with_letter_but_not_index(wordle_list, \"l\", 3)\n",
    "\n",
    "def only_words_that_fit_feedback(all_words, feedback):\n",
    "    if feedback['is_there'] == \"*\":\n",
    "        return words_with_letter_at_index(all_words, feedback['letter'], feedback['index'])\n",
    "    elif feedback['is_there'] == \".\":\n",
    "        return words_with_letter_but_not_index(all_words,feedback['letter'], feedback['index'])\n",
    "    else:\n",
    "        return all_words\n",
    "    \n",
    "print(only_words_that_fit_feedback([\"pinky\", \"baker\"],{\"letter\":\"b\", \"index\":0, \"is_there\":\"*\"}))\n",
    "assert only_words_that_fit_feedback([\"pinky\", \"baker\"],{\"letter\":\"b\", \"index\":0, \"is_there\":\"*\"}) == [\"baker\"]\n",
    "\n",
    "def only_words_that_fit_feedbacks(all_words, feedbacks):\n",
    "    subsets = [ only_words_that_fit_feedback(all_words, feedback)\n",
    "        for feedback in feedbacks]\n",
    "    return overlap_word_lists(subsets)\n",
    "    \n",
    "\n",
    "\n",
    "assert only_words_that_fit_feedbacks([\"bills\", \"baker\",\"baths\"],\n",
    "                                     [{\"letter\":\"b\", \"index\":0, \"is_there\":\"*\"},\n",
    "                                     {\"letter\":\"k\", \"index\":2, \"is_there\":\"*\"}]) == {\"baker\"}\n",
    "\n",
    "assert only_words_that_fit_feedbacks([\"bills\", \"baker\",\"baths\"],\n",
    "                                     [{\"letter\":\"b\", \"index\":0, \"is_there\":\"*\"}\n",
    "                                     ]) == {\"baker\",\"baths\",\"bills\"}\n",
    "\n",
    "assert only_words_that_fit_feedbacks([\"bills\", \"baker\",\"baths\"],\n",
    "                                     [{\"letter\":\"b\", \"index\":0, \"is_there\":\"*\"},\n",
    "                                      {\"letter\":\"a\", \"index\":1, \"is_there\":\"*\"}]) == {\"baker\",\"baths\"}\n",
    "print(\"tests passed!\")"
   ]
  },
  {
   "cell_type": "code",
   "execution_count": 13,
   "id": "38e0f34f",
   "metadata": {},
   "outputs": [
    {
     "name": "stdout",
     "output_type": "stream",
     "text": [
      "answer is:\n",
      "fungi\n",
      "\n",
      "\n",
      "[]\n",
      "\n"
     ]
    },
    {
     "ename": "IndexError",
     "evalue": "list index out of range",
     "output_type": "error",
     "traceback": [
      "\u001b[0;31m---------------------------------------------------------------------------\u001b[0m",
      "\u001b[0;31mIndexError\u001b[0m                                Traceback (most recent call last)",
      "\u001b[0;32m/var/folders/3h/g_yzkj190_36rwj922rrn1nm0000gn/T/ipykernel_58095/1224212423.py\u001b[0m in \u001b[0;36m<module>\u001b[0;34m\u001b[0m\n\u001b[1;32m     72\u001b[0m     \u001b[0;32mreturn\u001b[0m \u001b[0mmax_letter\u001b[0m\u001b[0;34m\u001b[0m\u001b[0;34m\u001b[0m\u001b[0m\n\u001b[1;32m     73\u001b[0m \u001b[0;34m\u001b[0m\u001b[0m\n\u001b[0;32m---> 74\u001b[0;31m \u001b[0mplay_game\u001b[0m\u001b[0;34m(\u001b[0m\u001b[0mall_words\u001b[0m\u001b[0;34m)\u001b[0m\u001b[0;34m\u001b[0m\u001b[0;34m\u001b[0m\u001b[0m\n\u001b[0m",
      "\u001b[0;32m/var/folders/3h/g_yzkj190_36rwj922rrn1nm0000gn/T/ipykernel_58095/1224212423.py\u001b[0m in \u001b[0;36mplay_game\u001b[0;34m(words_left)\u001b[0m\n\u001b[1;32m     52\u001b[0m     \u001b[0msteps\u001b[0m \u001b[0;34m=\u001b[0m \u001b[0;36m0\u001b[0m\u001b[0;34m\u001b[0m\u001b[0;34m\u001b[0m\u001b[0m\n\u001b[1;32m     53\u001b[0m     \u001b[0;32mwhile\u001b[0m \u001b[0mlen\u001b[0m\u001b[0;34m(\u001b[0m\u001b[0mwords_left\u001b[0m\u001b[0;34m)\u001b[0m \u001b[0;34m>\u001b[0m \u001b[0;36m0\u001b[0m\u001b[0;34m:\u001b[0m\u001b[0;34m\u001b[0m\u001b[0;34m\u001b[0m\u001b[0m\n\u001b[0;32m---> 54\u001b[0;31m         \u001b[0mwords_left\u001b[0m \u001b[0;34m=\u001b[0m \u001b[0mmake_a_guess_and_return_remaining_words\u001b[0m\u001b[0;34m(\u001b[0m\u001b[0mwords_left\u001b[0m\u001b[0;34m)\u001b[0m\u001b[0;34m\u001b[0m\u001b[0;34m\u001b[0m\u001b[0m\n\u001b[0m\u001b[1;32m     55\u001b[0m         \u001b[0msteps\u001b[0m \u001b[0;34m+=\u001b[0m \u001b[0;36m1\u001b[0m\u001b[0;34m\u001b[0m\u001b[0;34m\u001b[0m\u001b[0m\n\u001b[1;32m     56\u001b[0m \u001b[0;34m\u001b[0m\u001b[0m\n",
      "\u001b[0;32m/var/folders/3h/g_yzkj190_36rwj922rrn1nm0000gn/T/ipykernel_58095/1224212423.py\u001b[0m in \u001b[0;36mmake_a_guess_and_return_remaining_words\u001b[0;34m(words_left)\u001b[0m\n\u001b[1;32m     38\u001b[0m     \u001b[0mprint\u001b[0m\u001b[0;34m(\u001b[0m\u001b[0mfeedbacks_human\u001b[0m\u001b[0;34m)\u001b[0m\u001b[0;34m\u001b[0m\u001b[0;34m\u001b[0m\u001b[0m\n\u001b[1;32m     39\u001b[0m \u001b[0;34m\u001b[0m\u001b[0m\n\u001b[0;32m---> 40\u001b[0;31m     \u001b[0mwords_left\u001b[0m \u001b[0;34m=\u001b[0m \u001b[0monly_words_that_fit_feedbacks\u001b[0m\u001b[0;34m(\u001b[0m\u001b[0mwords_left\u001b[0m\u001b[0;34m,\u001b[0m \u001b[0mall_feedbacks\u001b[0m\u001b[0;34m)\u001b[0m\u001b[0;34m\u001b[0m\u001b[0;34m\u001b[0m\u001b[0m\n\u001b[0m\u001b[1;32m     41\u001b[0m     \u001b[0;32mif\u001b[0m \u001b[0mguess1\u001b[0m \u001b[0;32min\u001b[0m \u001b[0mwords_left\u001b[0m\u001b[0;34m:\u001b[0m\u001b[0;34m\u001b[0m\u001b[0;34m\u001b[0m\u001b[0m\n\u001b[1;32m     42\u001b[0m         \u001b[0mwords_left\u001b[0m\u001b[0;34m.\u001b[0m\u001b[0mremove\u001b[0m\u001b[0;34m(\u001b[0m\u001b[0mguess1\u001b[0m\u001b[0;34m)\u001b[0m\u001b[0;34m\u001b[0m\u001b[0;34m\u001b[0m\u001b[0m\n",
      "\u001b[0;32m/var/folders/3h/g_yzkj190_36rwj922rrn1nm0000gn/T/ipykernel_58095/3507645715.py\u001b[0m in \u001b[0;36monly_words_that_fit_feedbacks\u001b[0;34m(all_words, feedbacks)\u001b[0m\n\u001b[1;32m     17\u001b[0m     subsets = [ only_words_that_fit_feedback(all_words, feedback)\n\u001b[1;32m     18\u001b[0m         for feedback in feedbacks]\n\u001b[0;32m---> 19\u001b[0;31m     \u001b[0;32mreturn\u001b[0m \u001b[0moverlap_word_lists\u001b[0m\u001b[0;34m(\u001b[0m\u001b[0msubsets\u001b[0m\u001b[0;34m)\u001b[0m\u001b[0;34m\u001b[0m\u001b[0;34m\u001b[0m\u001b[0m\n\u001b[0m\u001b[1;32m     20\u001b[0m \u001b[0;34m\u001b[0m\u001b[0m\n\u001b[1;32m     21\u001b[0m \u001b[0;34m\u001b[0m\u001b[0m\n",
      "\u001b[0;32m/var/folders/3h/g_yzkj190_36rwj922rrn1nm0000gn/T/ipykernel_58095/2266221133.py\u001b[0m in \u001b[0;36moverlap_word_lists\u001b[0;34m(lists_with_words)\u001b[0m\n\u001b[1;32m      1\u001b[0m \u001b[0;32mdef\u001b[0m \u001b[0moverlap_word_lists\u001b[0m\u001b[0;34m(\u001b[0m\u001b[0mlists_with_words\u001b[0m\u001b[0;34m)\u001b[0m\u001b[0;34m:\u001b[0m\u001b[0;34m\u001b[0m\u001b[0;34m\u001b[0m\u001b[0m\n\u001b[0;32m----> 2\u001b[0;31m     \u001b[0mresult\u001b[0m \u001b[0;34m=\u001b[0m \u001b[0mset\u001b[0m\u001b[0;34m(\u001b[0m\u001b[0mlists_with_words\u001b[0m\u001b[0;34m[\u001b[0m\u001b[0;36m0\u001b[0m\u001b[0;34m]\u001b[0m\u001b[0;34m)\u001b[0m\u001b[0;34m\u001b[0m\u001b[0;34m\u001b[0m\u001b[0m\n\u001b[0m\u001b[1;32m      3\u001b[0m     \u001b[0;32mfor\u001b[0m \u001b[0mone_list\u001b[0m \u001b[0;32min\u001b[0m \u001b[0mlists_with_words\u001b[0m\u001b[0;34m[\u001b[0m\u001b[0;36m1\u001b[0m\u001b[0;34m:\u001b[0m\u001b[0;34m]\u001b[0m\u001b[0;34m:\u001b[0m\u001b[0;34m\u001b[0m\u001b[0;34m\u001b[0m\u001b[0m\n\u001b[1;32m      4\u001b[0m         \u001b[0mresult\u001b[0m\u001b[0;34m.\u001b[0m\u001b[0mintersection_update\u001b[0m\u001b[0;34m(\u001b[0m\u001b[0mone_list\u001b[0m\u001b[0;34m)\u001b[0m\u001b[0;34m\u001b[0m\u001b[0;34m\u001b[0m\u001b[0m\n\u001b[1;32m      5\u001b[0m     \u001b[0;32mreturn\u001b[0m \u001b[0mset\u001b[0m\u001b[0;34m(\u001b[0m\u001b[0mresult\u001b[0m\u001b[0;34m)\u001b[0m\u001b[0;34m\u001b[0m\u001b[0;34m\u001b[0m\u001b[0m\n",
      "\u001b[0;31mIndexError\u001b[0m: list index out of range"
     ]
    }
   ],
   "source": [
    "import random\n",
    "\n",
    "def get_random_word():\n",
    "    return random.choice(all_wordle_words())\n",
    "\n",
    "def get_random_word_from(some_words):\n",
    "    return random.choice(list(some_words))\n",
    "\n",
    "def get_random_word_from_with_letter(some_words, letter):\n",
    "    words_to_consider = [word\n",
    "                         for word in some_words\n",
    "                        if word.count(letter) > 0]\n",
    "    return  random.choice(list(words_to_consider)) if len(words_to_consider) > 0 else []\n",
    "\n",
    "all_words = all_wordle_words()\n",
    "words_left = all_words\n",
    "                         \n",
    "answer = get_random_word()\n",
    "print(\"answer is:\")\n",
    "print(answer)\n",
    "print()\n",
    "\n",
    "all_feedbacks = []\n",
    "all_guesses = []\n",
    "\n",
    "def make_a_guess_and_return_remaining_words(words_left):\n",
    "#     guess1 = get_random_word_from(words_left)\n",
    "    promoted_letter = most_common_letter_not_yet_in_feedback(words_left)\n",
    "    guess1 = get_random_word_from_with_letter(words_left, promoted_letter)\n",
    "    all_guesses.append(guess1)\n",
    "    \n",
    "    feedbacks = get_word_feedback_numeric(guess1, answer);\n",
    "    feedbacks_human = get_word_feedback(guess1, answer);\n",
    "    all_feedbacks.extend(feedbacks)\n",
    "    \n",
    "    print()\n",
    "    print(guess1)\n",
    "    print(feedbacks_human)\n",
    "    \n",
    "    words_left = only_words_that_fit_feedbacks(words_left, all_feedbacks)\n",
    "    if guess1 in words_left:\n",
    "        words_left.remove(guess1)\n",
    "    print(\"words left: \", len(words_left))\n",
    "#     print(\"words left: \", words_left)\n",
    "    print()\n",
    "    return words_left\n",
    "\n",
    "\n",
    "def play_game(words_left):\n",
    "    words_left = all_wordle_words()            \n",
    "    answer = get_random_word()\n",
    "    steps = 0\n",
    "    while len(words_left) > 0:\n",
    "        words_left = make_a_guess_and_return_remaining_words(words_left)\n",
    "        steps += 1\n",
    "        \n",
    "    print(\"YAY! YOU WIN! In steps:\", steps)\n",
    "    \n",
    "def most_common_letter_not_yet_in_feedback(words_left):\n",
    "    exclude_these = [ feedback['letter']\n",
    "        for feedback in all_feedbacks];\n",
    "    \n",
    "    all_letters = \"\".join(words_left).split()\n",
    "\n",
    "    max_letter = all_letters[0]\n",
    "    max_count = 0\n",
    "    for letter in set(all_letters):\n",
    "        count = all_letters.count(letter)\n",
    "        if count > max_count and letter not in exclude_these:\n",
    "            max_letter= letter\n",
    "            max_count= count\n",
    "    return max_letter\n",
    "\n",
    "play_game(all_words)"
   ]
  },
  {
   "cell_type": "code",
   "execution_count": 14,
   "id": "c4baad5c",
   "metadata": {},
   "outputs": [],
   "source": [
    "a = [2,3]\n",
    "b = [2]\n"
   ]
  },
  {
   "cell_type": "code",
   "execution_count": null,
   "id": "a53bb927",
   "metadata": {},
   "outputs": [],
   "source": []
  },
  {
   "cell_type": "code",
   "execution_count": null,
   "id": "6af30002",
   "metadata": {},
   "outputs": [],
   "source": []
  },
  {
   "cell_type": "code",
   "execution_count": 148,
   "id": "249544ec",
   "metadata": {},
   "outputs": [
    {
     "name": "stdout",
     "output_type": "stream",
     "text": [
      "1000\n",
      "1000\n",
      "1000\n",
      "1000\n",
      "\n",
      "3.14159265359\n",
      "3\n",
      "3.14\n",
      "3.1416\n",
      "3.14159265359\n"
     ]
    }
   ],
   "source": []
  },
  {
   "cell_type": "code",
   "execution_count": 169,
   "id": "b8700934",
   "metadata": {},
   "outputs": [
    {
     "name": "stdout",
     "output_type": "stream",
     "text": [
      "Invalid entry for ingredients... please type in either uppercase Y or N\n",
      "Invalid entry... please type in either uppercase Y or N\n"
     ]
    }
   ],
   "source": []
  },
  {
   "cell_type": "code",
   "execution_count": 178,
   "id": "b450ee9d",
   "metadata": {},
   "outputs": [
    {
     "name": "stdout",
     "output_type": "stream",
     "text": [
      "Your journey will take approximately 3 hours and 6 minutes\n"
     ]
    }
   ],
   "source": []
  },
  {
   "cell_type": "code",
   "execution_count": 15,
   "id": "962586d8",
   "metadata": {},
   "outputs": [
    {
     "name": "stdout",
     "output_type": "stream",
     "text": [
      "What is your age?2\n"
     ]
    },
    {
     "ename": "TypeError",
     "evalue": "can't multiply sequence by non-int of type 'float'",
     "output_type": "error",
     "traceback": [
      "\u001b[0;31m---------------------------------------------------------------------------\u001b[0m",
      "\u001b[0;31mTypeError\u001b[0m                                 Traceback (most recent call last)",
      "\u001b[0;32m/var/folders/3h/g_yzkj190_36rwj922rrn1nm0000gn/T/ipykernel_58095/3731298265.py\u001b[0m in \u001b[0;36m<module>\u001b[0;34m\u001b[0m\n\u001b[1;32m      1\u001b[0m \u001b[0mage\u001b[0m \u001b[0;34m=\u001b[0m \u001b[0minput\u001b[0m\u001b[0;34m(\u001b[0m\u001b[0;34m\"What is your age?\"\u001b[0m\u001b[0;34m)\u001b[0m\u001b[0;34m\u001b[0m\u001b[0;34m\u001b[0m\u001b[0m\n\u001b[0;32m----> 2\u001b[0;31m \u001b[0mprint\u001b[0m\u001b[0;34m(\u001b[0m\u001b[0;34m\"What is your age?\"\u001b[0m\u001b[0;34m,\u001b[0m \u001b[0mage\u001b[0m \u001b[0;34m*\u001b[0m \u001b[0;34m(\u001b[0m\u001b[0;36m365.25\u001b[0m \u001b[0;34m*\u001b[0m \u001b[0;36m24\u001b[0m \u001b[0;34m*\u001b[0m \u001b[0;36m60\u001b[0m \u001b[0;34m*\u001b[0m\u001b[0;36m60\u001b[0m\u001b[0;34m)\u001b[0m\u001b[0;34m)\u001b[0m\u001b[0;34m\u001b[0m\u001b[0;34m\u001b[0m\u001b[0m\n\u001b[0m",
      "\u001b[0;31mTypeError\u001b[0m: can't multiply sequence by non-int of type 'float'"
     ]
    }
   ],
   "source": [
    "age = input(\"What is your age?\")\n",
    "print(\"What is your age?\", age * (365.25 * 24 * 60 *60))"
   ]
  },
  {
   "cell_type": "code",
   "execution_count": null,
   "id": "e9a0d293",
   "metadata": {},
   "outputs": [],
   "source": []
  }
 ],
 "metadata": {
  "kernelspec": {
   "display_name": "Python 3 (ipykernel)",
   "language": "python",
   "name": "python3"
  },
  "language_info": {
   "codemirror_mode": {
    "name": "ipython",
    "version": 3
   },
   "file_extension": ".py",
   "mimetype": "text/x-python",
   "name": "python",
   "nbconvert_exporter": "python",
   "pygments_lexer": "ipython3",
   "version": "3.9.7"
  }
 },
 "nbformat": 4,
 "nbformat_minor": 5
}
